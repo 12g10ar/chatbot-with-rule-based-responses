{
 "cells": [
  {
   "cell_type": "code",
   "execution_count": 1,
   "metadata": {},
   "outputs": [
    {
     "name": "stdout",
     "output_type": "stream",
     "text": [
      "User: Hii\n",
      "Chatbot: Hello! Welcome to our restaurant. How can I assist you today?\n"
     ]
    }
   ],
   "source": [
    "def restaurant_chatbot(user_input):\n",
    "    user_input = user_input.lower()\n",
    "    \n",
    "    greetings = [\"hello\", \"hi\", \"hey\", \"greetings\"]\n",
    "    if any(greeting in user_input for greeting in greetings):\n",
    "        return \"Hello! Welcome to our restaurant. How can I assist you today?\"\n",
    "\n",
    "    if \"menu\" in user_input:\n",
    "        return \"Certainly! Our menu includes a variety of dishes, including starters, main courses, and desserts. What type of cuisine are you interested in?\"\n",
    "\n",
    "    if \"order\" in user_input:\n",
    "        return \"Great! What would you like to order today? Feel free to ask about our specials.\"\n",
    "\n",
    "    if \"recommend\" in user_input or \"specials\" in user_input:\n",
    "        return \"Certainly! Our chef's specials include [list of specials]. Would you like any recommendations based on your preferences?\"\n",
    "\n",
    "    if \"thank\" in user_input or \"thanks\" in user_input:\n",
    "        return \"You're welcome! If you have any more questions or need assistance, feel free to ask.\"\n",
    "\n",
    "    \n",
    "    return \"I'm sorry, I didn't quite catch that. How may I help you?\"\n",
    "\n",
    "user_input = input(\"User: \")\n",
    "response = restaurant_chatbot(user_input)\n",
    "print(\"Chatbot:\", response)\n"
   ]
  },
  {
   "cell_type": "code",
   "execution_count": null,
   "metadata": {},
   "outputs": [],
   "source": []
  }
 ],
 "metadata": {
  "kernelspec": {
   "display_name": "Python 3",
   "language": "python",
   "name": "python3"
  },
  "language_info": {
   "codemirror_mode": {
    "name": "ipython",
    "version": 3
   },
   "file_extension": ".py",
   "mimetype": "text/x-python",
   "name": "python",
   "nbconvert_exporter": "python",
   "pygments_lexer": "ipython3",
   "version": "3.7.4"
  }
 },
 "nbformat": 4,
 "nbformat_minor": 2
}
